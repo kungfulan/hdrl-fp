{
 "cells": [
  {
   "cell_type": "code",
   "execution_count": 44,
   "metadata": {},
   "outputs": [],
   "source": [
    "import numpy as np"
   ]
  },
  {
   "cell_type": "code",
   "execution_count": 32,
   "metadata": {},
   "outputs": [],
   "source": [
    "original_array = np.load(\"en_array.npy\")"
   ]
  },
  {
   "cell_type": "code",
   "execution_count": 33,
   "metadata": {},
   "outputs": [
    {
     "data": {
      "text/plain": [
       "(20, 18, 20)"
      ]
     },
     "execution_count": 33,
     "metadata": {},
     "output_type": "execute_result"
    }
   ],
   "source": [
    "shape = original_array.shape\n",
    "shape"
   ]
  },
  {
   "cell_type": "code",
   "execution_count": 34,
   "metadata": {},
   "outputs": [
    {
     "data": {
      "text/plain": [
       "(39, 35, 39)"
      ]
     },
     "execution_count": 34,
     "metadata": {},
     "output_type": "execute_result"
    }
   ],
   "source": [
    "new_shape = (2 * shape[0] - 1, 2 * shape[1] - 1, 2 * shape[2] - 1)\n",
    "new_shape"
   ]
  },
  {
   "cell_type": "code",
   "execution_count": 35,
   "metadata": {},
   "outputs": [],
   "source": [
    "new_array = np.zeros(new_shape)\n",
    "new_array[::2, ::2, ::2] = original_array"
   ]
  },
  {
   "cell_type": "code",
   "execution_count": 36,
   "metadata": {},
   "outputs": [],
   "source": [
    "for i in range(new_shape[0]):\n",
    "    for j in range(new_shape[1]):\n",
    "        for k in range(new_shape[2]):\n",
    "            # the odd index is the newly added while even is the old\n",
    "            r_i = i % 2\n",
    "            r_j = j % 2\n",
    "            r_k = k % 2\n",
    "            \n",
    "            # original vertices of the array (all indices are even)\n",
    "            if r_i == 0 and r_j == 0 and r_k == 0:\n",
    "                continue\n",
    "            \n",
    "            assert(new_array[i, j, k] == 0)\n",
    "            # cell center (all indices are odds)\n",
    "            if r_i + r_j + r_k == 3:\n",
    "                new_array[i, j, k] = (new_array[i-1, j-1, k-1] + new_array[i+1, j-1, k-1] + new_array[i-1, j+1, k-1] + new_array[i+1, j+1, k-1] + \n",
    "                                      new_array[i-1, j-1, k+1] + new_array[i+1, j-1, k+1] + new_array[i-1, j+1, k+1] + new_array[i+1, j+1, k+1])/8\n",
    "            # surface center (two indices are odds)\n",
    "            elif r_i + r_j + r_k == 2:    \n",
    "                # on the i surface\n",
    "                if r_i == 0:\n",
    "                    new_array[i, j, k] = (new_array[i, j-1, k-1] + new_array[i, j-1, k+1] + new_array[i, j+1, k-1] + new_array[i, j+1, k+1])/4\n",
    "                # on the j surface\n",
    "                elif r_j == 0:\n",
    "                    new_array[i, j, k] = (new_array[i-1, j, k-1] + new_array[i-1, j, k+1] + new_array[i+1, j, k-1] + new_array[i+1, j, k+1])/4\n",
    "                # on the k surface\n",
    "                else:\n",
    "                    new_array[i, j, k] = (new_array[i-1, j-1, k] + new_array[i-1, j+1, k] + new_array[i+1, j-1, k] + new_array[i+1, j+1, k])/4\n",
    "            # edge middle\n",
    "            else:\n",
    "                if r_i == 1:\n",
    "                    new_array[i, j, k] = (new_array[i-1, j, k] + new_array[i+1, j, k])/2\n",
    "                elif r_j == 1:\n",
    "                    new_array[i, j, k] = (new_array[i, j-1, k] + new_array[i, j+1, k])/2\n",
    "                else:\n",
    "                    new_array[i, j, k] = (new_array[i, j, k-1] + new_array[i, j, k+1])/2"
   ]
  },
  {
   "cell_type": "code",
   "execution_count": 45,
   "metadata": {},
   "outputs": [],
   "source": [
    "with open('en_array_double_grids.npy', 'wb') as output_file:\n",
    "    np.save(output_file, new_array)"
   ]
  },
  {
   "cell_type": "code",
   "execution_count": 46,
   "metadata": {},
   "outputs": [
    {
     "data": {
      "text/plain": [
       "(39, 35, 39)"
      ]
     },
     "execution_count": 46,
     "metadata": {},
     "output_type": "execute_result"
    }
   ],
   "source": [
    "new_array_reload = np.load(\"en_array_double_grids.npy\")\n",
    "new_array_reload.shape"
   ]
  },
  {
   "cell_type": "code",
   "execution_count": 47,
   "metadata": {},
   "outputs": [],
   "source": [
    "new_array_1 = np.load(\"en_array_double_grids.npy\")\n",
    "new_array_2 = np.load(\"en_array_double_grids_check.npy\")"
   ]
  },
  {
   "cell_type": "code",
   "execution_count": 48,
   "metadata": {},
   "outputs": [
    {
     "data": {
      "text/plain": [
       "True"
      ]
     },
     "execution_count": 48,
     "metadata": {},
     "output_type": "execute_result"
    }
   ],
   "source": [
    "(new_array_1 == new_array_2).all()"
   ]
  },
  {
   "cell_type": "code",
   "execution_count": 54,
   "metadata": {},
   "outputs": [],
   "source": [
    "import pandas as pd\n",
    "from itertools import product\n",
    "\n",
    "x, y, z = new_array_reload.shape\n",
    "x_, y_, z_ = zip(*product(range(x), range(y), range(z)))\n",
    "df = pd.DataFrame(new_array_reload.flatten(), columns=[\"value\"]).assign(x=x_, y=y_, z=z_)"
   ]
  },
  {
   "cell_type": "code",
   "execution_count": 56,
   "metadata": {},
   "outputs": [],
   "source": [
    "df[\"x\"] = df[\"x\"]/2.0\n",
    "df[\"y\"] = df[\"y\"]/2.0\n",
    "df[\"z\"] = df[\"z\"]/2.0"
   ]
  },
  {
   "cell_type": "code",
   "execution_count": 57,
   "metadata": {},
   "outputs": [
    {
     "data": {
      "text/html": [
       "<div>\n",
       "<style scoped>\n",
       "    .dataframe tbody tr th:only-of-type {\n",
       "        vertical-align: middle;\n",
       "    }\n",
       "\n",
       "    .dataframe tbody tr th {\n",
       "        vertical-align: top;\n",
       "    }\n",
       "\n",
       "    .dataframe thead th {\n",
       "        text-align: right;\n",
       "    }\n",
       "</style>\n",
       "<table border=\"1\" class=\"dataframe\">\n",
       "  <thead>\n",
       "    <tr style=\"text-align: right;\">\n",
       "      <th></th>\n",
       "      <th>value</th>\n",
       "      <th>x</th>\n",
       "      <th>y</th>\n",
       "      <th>z</th>\n",
       "    </tr>\n",
       "  </thead>\n",
       "  <tbody>\n",
       "    <tr>\n",
       "      <th>0</th>\n",
       "      <td>-214.664780</td>\n",
       "      <td>0.0</td>\n",
       "      <td>0.0</td>\n",
       "      <td>0.0</td>\n",
       "    </tr>\n",
       "    <tr>\n",
       "      <th>1</th>\n",
       "      <td>-188.833805</td>\n",
       "      <td>0.0</td>\n",
       "      <td>0.0</td>\n",
       "      <td>0.5</td>\n",
       "    </tr>\n",
       "    <tr>\n",
       "      <th>2</th>\n",
       "      <td>-163.002830</td>\n",
       "      <td>0.0</td>\n",
       "      <td>0.0</td>\n",
       "      <td>1.0</td>\n",
       "    </tr>\n",
       "    <tr>\n",
       "      <th>3</th>\n",
       "      <td>-16.615820</td>\n",
       "      <td>0.0</td>\n",
       "      <td>0.0</td>\n",
       "      <td>1.5</td>\n",
       "    </tr>\n",
       "    <tr>\n",
       "      <th>4</th>\n",
       "      <td>129.771190</td>\n",
       "      <td>0.0</td>\n",
       "      <td>0.0</td>\n",
       "      <td>2.0</td>\n",
       "    </tr>\n",
       "    <tr>\n",
       "      <th>...</th>\n",
       "      <td>...</td>\n",
       "      <td>...</td>\n",
       "      <td>...</td>\n",
       "      <td>...</td>\n",
       "    </tr>\n",
       "    <tr>\n",
       "      <th>53230</th>\n",
       "      <td>-223.617880</td>\n",
       "      <td>19.0</td>\n",
       "      <td>17.0</td>\n",
       "      <td>17.0</td>\n",
       "    </tr>\n",
       "    <tr>\n",
       "      <th>53231</th>\n",
       "      <td>-223.618140</td>\n",
       "      <td>19.0</td>\n",
       "      <td>17.0</td>\n",
       "      <td>17.5</td>\n",
       "    </tr>\n",
       "    <tr>\n",
       "      <th>53232</th>\n",
       "      <td>-223.618400</td>\n",
       "      <td>19.0</td>\n",
       "      <td>17.0</td>\n",
       "      <td>18.0</td>\n",
       "    </tr>\n",
       "    <tr>\n",
       "      <th>53233</th>\n",
       "      <td>-223.620515</td>\n",
       "      <td>19.0</td>\n",
       "      <td>17.0</td>\n",
       "      <td>18.5</td>\n",
       "    </tr>\n",
       "    <tr>\n",
       "      <th>53234</th>\n",
       "      <td>-223.622630</td>\n",
       "      <td>19.0</td>\n",
       "      <td>17.0</td>\n",
       "      <td>19.0</td>\n",
       "    </tr>\n",
       "  </tbody>\n",
       "</table>\n",
       "<p>53235 rows × 4 columns</p>\n",
       "</div>"
      ],
      "text/plain": [
       "            value     x     y     z\n",
       "0     -214.664780   0.0   0.0   0.0\n",
       "1     -188.833805   0.0   0.0   0.5\n",
       "2     -163.002830   0.0   0.0   1.0\n",
       "3      -16.615820   0.0   0.0   1.5\n",
       "4      129.771190   0.0   0.0   2.0\n",
       "...           ...   ...   ...   ...\n",
       "53230 -223.617880  19.0  17.0  17.0\n",
       "53231 -223.618140  19.0  17.0  17.5\n",
       "53232 -223.618400  19.0  17.0  18.0\n",
       "53233 -223.620515  19.0  17.0  18.5\n",
       "53234 -223.622630  19.0  17.0  19.0\n",
       "\n",
       "[53235 rows x 4 columns]"
      ]
     },
     "execution_count": 57,
     "metadata": {},
     "output_type": "execute_result"
    }
   ],
   "source": [
    "df"
   ]
  },
  {
   "cell_type": "code",
   "execution_count": 58,
   "metadata": {},
   "outputs": [],
   "source": [
    "df.to_csv(\"en_array_double_grids.csv\", index=False)"
   ]
  },
  {
   "cell_type": "code",
   "execution_count": null,
   "metadata": {},
   "outputs": [],
   "source": []
  }
 ],
 "metadata": {
  "kernelspec": {
   "display_name": "Python 3",
   "language": "python",
   "name": "python3"
  },
  "language_info": {
   "codemirror_mode": {
    "name": "ipython",
    "version": 3
   },
   "file_extension": ".py",
   "mimetype": "text/x-python",
   "name": "python",
   "nbconvert_exporter": "python",
   "pygments_lexer": "ipython3",
   "version": "3.7.9"
  }
 },
 "nbformat": 4,
 "nbformat_minor": 4
}
